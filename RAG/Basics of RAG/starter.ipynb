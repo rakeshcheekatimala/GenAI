{
 "cells": [
  {
   "cell_type": "code",
   "execution_count": 37,
   "metadata": {},
   "outputs": [],
   "source": [
    "# Sample documents about sailing in Croatia\n",
    "documents = ['Sailing in Croatia often includes visiting UNESCO World Heritage sites.',\n",
    " 'The Makarska Riviera is known for its stunning coastline and sailing opportunities.',\n",
    " 'Sailing in Croatia offers stunning views of the Adriatic Sea.',\n",
    " \"The city of Sibenik is home to the impressive St. James's Cathedral, a UNESCO World Heritage site.\",\n",
    " 'The island of Brač is known for its beautiful beaches and great sailing conditions.',\n",
    " 'Sailing to the island of Rab, known for its medieval old town, is a great experience.',\n",
    " 'The Pakleni Islands near Hvar are a popular spot for sailing yachts.',\n",
    " 'The island of Cres is one of the largest in Croatia and a great destination for sailing.',\n",
    " 'The island of Cres is one of the largest in Croatia and has a diverse wildlife.',\n",
    " 'The city of Zagreb is the capital of Croatia and offers a mix of modern and historic attractions.',\n",
    " 'Sailors can experience the traditional Dalmatian way of life in many coastal villages.',\n",
    " 'The city of Knin is known for its historic fortress and beautiful scenery.',\n",
    " 'The island of Krk is the largest island in the Adriatic Sea.',\n",
    " 'Croatia has a rich history dating back to the Roman Empire.',\n",
    " 'The island of Hvar is a popular destination for celebrities and high-end travelers.',\n",
    " 'The city of Varazdin is known for its baroque buildings and vibrant cultural scene.',\n",
    " 'Sailors can enjoy fresh seafood at many coastal restaurants in Croatia.',\n",
    " 'The coastal town of Senj is known for its carnival and Nehaj Fortress.',\n",
    " 'The Dalmatian Coast is a famous region for sailing in Croatia.',\n",
    " \"The Diocletian's Palace in Split is one of the most famous Roman ruins in Croatia.\",\n",
    " 'The island of Dugi Otok is known for its dramatic cliffs and beautiful sailing waters.',\n",
    " 'The island of Rab is famous for its medieval old town and stunning beaches.',\n",
    " 'The island of Mljet is home to a national park and is ideal for nature lovers.',\n",
    " 'Sailors in Croatia can visit ancient Roman ruins in Split.',\n",
    " 'The city of Kotor, just across the border in Montenegro, is a popular extension for Croatian sailing trips.',\n",
    " 'The island of Korcula is believed to be the birthplace of Marco Polo.',\n",
    " 'The town of Motovun in Istria is famous for its film festival.',\n",
    " 'The city of Nin is known for its ancient salt pans and historic church.',\n",
    " 'The city of Vukovar is known for its role in the Croatian War of Independence.',\n",
    " 'Sailing to the island of Lošinj, known for its health tourism, is a relaxing experience.',\n",
    " 'The island of Hvar is known for its vibrant nightlife and sailing opportunities.',\n",
    " 'The island of Korčula is believed to be the birthplace of Marco Polo and is a popular sailing destination.',\n",
    " 'Sailing in Croatia often involves stopping at picturesque fishing villages.',\n",
    " 'The city of Opatija is known for its grand villas and seaside promenade.',\n",
    " 'The city of Porec is known for the Euphrasian Basilica, a UNESCO World Heritage site.',\n",
    " 'The island of Brac is home to the famous Zlatni Rat beach, known for its changing shape.',\n",
    " 'Sailing around the island of Mljet offers a peaceful and scenic experience.',\n",
    " 'The Blue Cave on Biševo Island is a must-see for sailors.',\n",
    " 'The island of Pag is famous for its cheese and nightlife, and is a fun stop for sailors.',\n",
    " \"The island of Lastovo is one of Croatia's most remote and tranquil destinations.\",\n",
    " 'Sailors can enjoy snorkeling in the clear waters of the Adriatic Sea.',\n",
    " 'The city of Rovinj is a charming starting point for a sailing trip in Croatia.',\n",
    " \"Croatia's national parks, like Krka and Plitvice, are ideal for hiking and nature lovers.\",\n",
    " 'The city of Zadar is famous for its sunsets, which sailors can enjoy from the sea.',\n",
    " 'Croatia has over a thousand islands, each with its unique charm.',\n",
    " \"Croatia's Adriatic coast is dotted with charming fishing villages.\",\n",
    " 'Sailing to the island of Šolta offers a quiet escape from the more touristy areas.',\n",
    " 'Sailors in Croatia can explore over 1,200 islands.',\n",
    " 'Sailing in Croatia provides opportunities to visit ancient fortresses and castles along the coast.',\n",
    " 'Croatia is famous for its beautiful coastline and crystal-clear waters.',\n",
    " 'The island of Krk is accessible by bridge and is a popular starting point for sailing trips.',\n",
    " 'Sailing in Croatia is best enjoyed during the summer months.',\n",
    " 'The island of Pag is famous for its cheese, which is considered a delicacy.',\n",
    " 'The medieval town of Rovinj is one of the most picturesque places in Croatia.',\n",
    " 'The island of Losinj is famous for its health tourism and clean air.',\n",
    " 'The city of Dubrovnik, with its famous city walls, is a top destination for sailors.',\n",
    " 'Croatia has beautiful islands perfect for sailing.',\n",
    " 'Sailing in Croatia allows you to explore hidden coves and bays.',\n",
    " 'The city of Rijeka is an important cultural and economic center in Croatia.',\n",
    " 'The island of Mljet has a national park that is perfect for exploring by sailboat.',\n",
    " 'The Istrian Peninsula is famous for its truffles and gourmet food.',\n",
    " 'The town of Cavtat is a quieter alternative to nearby Dubrovnik.',\n",
    " 'The Peljesac Peninsula is known for its vineyards and wine production.',\n",
    " 'The Dubrovnik Summer Festival is a major cultural event featuring theater, music, and dance performances.',\n",
    " 'The city of Zadar is famous for its unique Sea Organ, an architectural sound art object.',\n",
    " 'The beaches in Croatia are among the best in Europe, with many receiving Blue Flag status.',\n",
    " 'Sailing around the island of Murter gives access to the Kornati Islands National Park.',\n",
    " 'The city of Trogir, with its historic architecture, is a great place to dock.',\n",
    " 'Sailing from Split to Dubrovnik offers breathtaking coastal scenery.',\n",
    " 'The Plitvice Lakes National Park is a UNESCO World Heritage site known for its stunning waterfalls and lakes.',\n",
    " 'The city of Hvar is one of the sunniest places in Europe and a popular sailing hub.',\n",
    " \"The city of Dubrovnik is often called the 'Pearl of the Adriatic'.\",\n",
    " 'The city of Osijek is located in the eastern part of Croatia and is known for its Baroque style.',\n",
    " 'The city of Pula, with its Roman amphitheater, is a unique sailing destination.',\n",
    " 'The town of Trogir is a UNESCO World Heritage site known for its medieval architecture.',\n",
    " 'Sailors in Croatia can enjoy local wines at many coastal vineyards.',\n",
    " 'Croatia has a Mediterranean climate, making it a great destination year-round.',\n",
    " 'Croatia has a diverse cultural heritage, with influences from Italy, Hungary, and Austria.',\n",
    " 'The city of Rijeka is an important cultural and historical sailing destination.',\n",
    " 'The best sailing routes in Croatia include Dubrovnik and Split.',\n",
    " 'The Brijuni Islands are a national park and a former presidential retreat.',\n",
    " 'Sailing to the Elaphiti Islands offers a mix of natural beauty and cultural sites.',\n",
    " 'Croatia is known for its delicious seafood cuisine.',\n",
    " 'The ancient city of Pula is known for its well-preserved Roman amphitheater.',\n",
    " 'The city of Opatija is a historical seaside resort that welcomes sailors.',\n",
    " 'The waters around Croatia are known for being calm and clear, ideal for sailing.',\n",
    " 'The Kornati Islands National Park is a popular sailing destination in Croatia.',\n",
    " \"Sailing around the Brijuni Islands offers a glimpse of Croatia's natural beauty and wildlife.\",\n",
    " 'The island of Vis was a military base and was closed to tourism until the 1990s.',\n",
    " 'The city of Split is a major port and gateway to the Dalmatian islands.',\n",
    " 'Sailing to the island of Vis provides access to the famous Blue Cave.',\n",
    " \"The city of Buzet in Istria is known as the 'City of Truffles'.\",\n",
    " 'The city of Karlovac is known for its parks and the rivers that flow through it.',\n",
    " 'Sailing to the island of Vis allows you to experience a more remote part of Croatia.',\n",
    " 'The city of Šibenik is a UNESCO World Heritage site and a great stop for sailors.',\n",
    " \"The town of Samobor is famous for its traditional cream cake called 'kremsnita'.\",\n",
    " 'Sailing around the island of Lastovo provides a more secluded experience.',\n",
    " \"Croatia's wine regions produce some excellent wines, especially in Istria and Dalmatia.\",\n",
    " 'Many sailors start their Croatian adventure from the city of Zadar.',\n",
    " 'The coastal town of Makarska is known for its beautiful beaches and lively nightlife.']"
   ]
  },
  {
   "cell_type": "code",
   "execution_count": 38,
   "metadata": {},
   "outputs": [
    {
     "name": "stdout",
     "output_type": "stream",
     "text": [
      "['Sailing in Croatia often includes visiting UNESCO World Heritage sites.', 'The Makarska Riviera is known for its stunning coastline and sailing opportunities.', 'Sailing in Croatia offers stunning views of the Adriatic Sea.', \"The city of Sibenik is home to the impressive St. James's Cathedral, a UNESCO World Heritage site.\", 'The island of Brač is known for its beautiful beaches and great sailing conditions.', 'Sailing to the island of Rab, known for its medieval old town, is a great experience.', 'The Pakleni Islands near Hvar are a popular spot for sailing yachts.', 'The island of Cres is one of the largest in Croatia and a great destination for sailing.', 'The island of Cres is one of the largest in Croatia and has a diverse wildlife.', 'The city of Zagreb is the capital of Croatia and offers a mix of modern and historic attractions.', 'Sailors can experience the traditional Dalmatian way of life in many coastal villages.', 'The city of Knin is known for its historic fortress and beautiful scenery.', 'The island of Krk is the largest island in the Adriatic Sea.', 'Croatia has a rich history dating back to the Roman Empire.', 'The island of Hvar is a popular destination for celebrities and high-end travelers.', 'The city of Varazdin is known for its baroque buildings and vibrant cultural scene.', 'Sailors can enjoy fresh seafood at many coastal restaurants in Croatia.', 'The coastal town of Senj is known for its carnival and Nehaj Fortress.', 'The Dalmatian Coast is a famous region for sailing in Croatia.', \"The Diocletian's Palace in Split is one of the most famous Roman ruins in Croatia.\", 'The island of Dugi Otok is known for its dramatic cliffs and beautiful sailing waters.', 'The island of Rab is famous for its medieval old town and stunning beaches.', 'The island of Mljet is home to a national park and is ideal for nature lovers.', 'Sailors in Croatia can visit ancient Roman ruins in Split.', 'The city of Kotor, just across the border in Montenegro, is a popular extension for Croatian sailing trips.', 'The island of Korcula is believed to be the birthplace of Marco Polo.', 'The town of Motovun in Istria is famous for its film festival.', 'The city of Nin is known for its ancient salt pans and historic church.', 'The city of Vukovar is known for its role in the Croatian War of Independence.', 'Sailing to the island of Lošinj, known for its health tourism, is a relaxing experience.', 'The island of Hvar is known for its vibrant nightlife and sailing opportunities.', 'The island of Korčula is believed to be the birthplace of Marco Polo and is a popular sailing destination.', 'Sailing in Croatia often involves stopping at picturesque fishing villages.', 'The city of Opatija is known for its grand villas and seaside promenade.', 'The city of Porec is known for the Euphrasian Basilica, a UNESCO World Heritage site.', 'The island of Brac is home to the famous Zlatni Rat beach, known for its changing shape.', 'Sailing around the island of Mljet offers a peaceful and scenic experience.', 'The Blue Cave on Biševo Island is a must-see for sailors.', 'The island of Pag is famous for its cheese and nightlife, and is a fun stop for sailors.', \"The island of Lastovo is one of Croatia's most remote and tranquil destinations.\", 'Sailors can enjoy snorkeling in the clear waters of the Adriatic Sea.', 'The city of Rovinj is a charming starting point for a sailing trip in Croatia.', \"Croatia's national parks, like Krka and Plitvice, are ideal for hiking and nature lovers.\", 'The city of Zadar is famous for its sunsets, which sailors can enjoy from the sea.', 'Croatia has over a thousand islands, each with its unique charm.', \"Croatia's Adriatic coast is dotted with charming fishing villages.\", 'Sailing to the island of Šolta offers a quiet escape from the more touristy areas.', 'Sailors in Croatia can explore over 1,200 islands.', 'Sailing in Croatia provides opportunities to visit ancient fortresses and castles along the coast.', 'Croatia is famous for its beautiful coastline and crystal-clear waters.', 'The island of Krk is accessible by bridge and is a popular starting point for sailing trips.', 'Sailing in Croatia is best enjoyed during the summer months.', 'The island of Pag is famous for its cheese, which is considered a delicacy.', 'The medieval town of Rovinj is one of the most picturesque places in Croatia.', 'The island of Losinj is famous for its health tourism and clean air.', 'The city of Dubrovnik, with its famous city walls, is a top destination for sailors.', 'Croatia has beautiful islands perfect for sailing.', 'Sailing in Croatia allows you to explore hidden coves and bays.', 'The city of Rijeka is an important cultural and economic center in Croatia.', 'The island of Mljet has a national park that is perfect for exploring by sailboat.', 'The Istrian Peninsula is famous for its truffles and gourmet food.', 'The town of Cavtat is a quieter alternative to nearby Dubrovnik.', 'The Peljesac Peninsula is known for its vineyards and wine production.', 'The Dubrovnik Summer Festival is a major cultural event featuring theater, music, and dance performances.', 'The city of Zadar is famous for its unique Sea Organ, an architectural sound art object.', 'The beaches in Croatia are among the best in Europe, with many receiving Blue Flag status.', 'Sailing around the island of Murter gives access to the Kornati Islands National Park.', 'The city of Trogir, with its historic architecture, is a great place to dock.', 'Sailing from Split to Dubrovnik offers breathtaking coastal scenery.', 'The Plitvice Lakes National Park is a UNESCO World Heritage site known for its stunning waterfalls and lakes.', 'The city of Hvar is one of the sunniest places in Europe and a popular sailing hub.', \"The city of Dubrovnik is often called the 'Pearl of the Adriatic'.\", 'The city of Osijek is located in the eastern part of Croatia and is known for its Baroque style.', 'The city of Pula, with its Roman amphitheater, is a unique sailing destination.', 'The town of Trogir is a UNESCO World Heritage site known for its medieval architecture.', 'Sailors in Croatia can enjoy local wines at many coastal vineyards.', 'Croatia has a Mediterranean climate, making it a great destination year-round.', 'Croatia has a diverse cultural heritage, with influences from Italy, Hungary, and Austria.', 'The city of Rijeka is an important cultural and historical sailing destination.', 'The best sailing routes in Croatia include Dubrovnik and Split.', 'The Brijuni Islands are a national park and a former presidential retreat.', 'Sailing to the Elaphiti Islands offers a mix of natural beauty and cultural sites.', 'Croatia is known for its delicious seafood cuisine.', 'The ancient city of Pula is known for its well-preserved Roman amphitheater.', 'The city of Opatija is a historical seaside resort that welcomes sailors.', 'The waters around Croatia are known for being calm and clear, ideal for sailing.', 'The Kornati Islands National Park is a popular sailing destination in Croatia.', \"Sailing around the Brijuni Islands offers a glimpse of Croatia's natural beauty and wildlife.\", 'The island of Vis was a military base and was closed to tourism until the 1990s.', 'The city of Split is a major port and gateway to the Dalmatian islands.', 'Sailing to the island of Vis provides access to the famous Blue Cave.', \"The city of Buzet in Istria is known as the 'City of Truffles'.\", 'The city of Karlovac is known for its parks and the rivers that flow through it.', 'Sailing to the island of Vis allows you to experience a more remote part of Croatia.', 'The city of Šibenik is a UNESCO World Heritage site and a great stop for sailors.', \"The town of Samobor is famous for its traditional cream cake called 'kremsnita'.\", 'Sailing around the island of Lastovo provides a more secluded experience.', \"Croatia's wine regions produce some excellent wines, especially in Istria and Dalmatia.\", 'Many sailors start their Croatian adventure from the city of Zadar.', 'The coastal town of Makarska is known for its beautiful beaches and lively nightlife.']\n"
     ]
    }
   ],
   "source": [
    "print(documents)"
   ]
  },
  {
   "cell_type": "code",
   "execution_count": 39,
   "metadata": {},
   "outputs": [],
   "source": [
    "# Tokenisation of docuemnts \n",
    "# Import Libraries \n",
    "import nltk \n",
    "# Natural Language Toolkit. It is a popular open-source Python library used for working with human language data (text)\n",
    "from sklearn.feature_extraction.text import TfidfVectorizer\n",
    "# To transform text into vectors that can be used as input for machine learning algorithms. \n",
    "\n",
    "from sklearn.metrics.pairwise import cosine_similarity\n",
    "# To calculate the cosine similarity between two vectors. \n",
    "\n",
    "import numpy as np\n",
    "# To perform mathematical operations on arrays and matrices."
   ]
  },
  {
   "cell_type": "code",
   "execution_count": 40,
   "metadata": {},
   "outputs": [
    {
     "name": "stderr",
     "output_type": "stream",
     "text": [
      "[nltk_data] Downloading package punkt to\n",
      "[nltk_data]     /Users/rakeshcheekatimala/nltk_data...\n",
      "[nltk_data]   Package punkt is already up-to-date!\n",
      "[nltk_data] Downloading package punkt_tab to\n",
      "[nltk_data]     /Users/rakeshcheekatimala/nltk_data...\n",
      "[nltk_data]   Package punkt_tab is already up-to-date!\n",
      "[nltk_data] Downloading package stopwords to\n",
      "[nltk_data]     /Users/rakeshcheekatimala/nltk_data...\n",
      "[nltk_data]   Package stopwords is already up-to-date!\n"
     ]
    },
    {
     "data": {
      "text/plain": [
       "True"
      ]
     },
     "execution_count": 40,
     "metadata": {},
     "output_type": "execute_result"
    }
   ],
   "source": [
    "# Download models from NLTK\n",
    "nltk.download('punkt')\n",
    "# Download the Punkt tokenizer models, which are used for tokenizing text into sentences or words.  \n",
    "nltk.download('punkt_tab')\n",
    "nltk.download('stopwords')\n",
    "# Download the stopwords corpus, which contains common words that are often ignored in text processing. "
   ]
  },
  {
   "cell_type": "code",
   "execution_count": 41,
   "metadata": {},
   "outputs": [],
   "source": [
    "text =\"England vs India Test Match in Lord's is quite interesting.The match is being played at Lord's, which is known as the Home of Cricket. England and India are both strong teams, and this match is expected to be a thrilling contest. The weather is perfect for cricket, with clear skies and a slight breeze. Fans from both sides have gathered to support their teams, creating an electric atmosphere in the stadium. The players are warming up, and the excitement is palpable as everyone awaits the start of the match.\""
   ]
  },
  {
   "cell_type": "code",
   "execution_count": 42,
   "metadata": {},
   "outputs": [
    {
     "data": {
      "text/plain": [
       "[\"England vs India Test Match in Lord's is quite interesting.The match is being played at Lord's, which is known as the Home of Cricket.\",\n",
       " 'England and India are both strong teams, and this match is expected to be a thrilling contest.',\n",
       " 'The weather is perfect for cricket, with clear skies and a slight breeze.',\n",
       " 'Fans from both sides have gathered to support their teams, creating an electric atmosphere in the stadium.',\n",
       " 'The players are warming up, and the excitement is palpable as everyone awaits the start of the match.']"
      ]
     },
     "execution_count": 42,
     "metadata": {},
     "output_type": "execute_result"
    }
   ],
   "source": [
    "nltk.sent_tokenize(text)"
   ]
  },
  {
   "cell_type": "markdown",
   "metadata": {},
   "source": [
    "# Sentence is defined when there is '.' and empty space after it. This is the rule for above tokenization"
   ]
  },
  {
   "cell_type": "code",
   "execution_count": 43,
   "metadata": {},
   "outputs": [],
   "source": [
    "word = \"England vs India Test Match in Lord's. is quite interesting\"\n",
    "word = word.lower()"
   ]
  },
  {
   "cell_type": "code",
   "execution_count": 44,
   "metadata": {},
   "outputs": [
    {
     "name": "stdout",
     "output_type": "stream",
     "text": [
      "['england', 'vs', 'india', 'test', 'match', 'in', 'lord', \"'s\", '.', 'is', 'quite', 'interesting']\n"
     ]
    }
   ],
   "source": [
    "words = nltk.word_tokenize(word)\n",
    "print(words)"
   ]
  },
  {
   "cell_type": "code",
   "execution_count": 45,
   "metadata": {},
   "outputs": [
    {
     "data": {
      "text/plain": [
       "['england',\n",
       " 'vs',\n",
       " 'india',\n",
       " 'test',\n",
       " 'match',\n",
       " 'in',\n",
       " 'lord',\n",
       " 'is',\n",
       " 'quite',\n",
       " 'interesting']"
      ]
     },
     "execution_count": 45,
     "metadata": {},
     "output_type": "execute_result"
    }
   ],
   "source": [
    "[word for word in words if word.isalnum()]"
   ]
  },
  {
   "cell_type": "code",
   "execution_count": 46,
   "metadata": {},
   "outputs": [],
   "source": [
    "def preprocess_text(text):\n",
    "    # Convert text to lowercase\n",
    "    text = text.lower()\n",
    "    # Tokenize the text into words\n",
    "    words = nltk.word_tokenize(text)\n",
    "    # Remove non-alphanumeric tokens\n",
    "    words = [word for word in words if word.isalnum()]\n",
    "    return words"
   ]
  },
  {
   "cell_type": "code",
   "execution_count": 47,
   "metadata": {},
   "outputs": [
    {
     "data": {
      "text/plain": [
       "['sailing in croatia often includes visiting unesco world heritage sites',\n",
       " 'the makarska riviera is known for its stunning coastline and sailing opportunities',\n",
       " 'sailing in croatia offers stunning views of the adriatic sea',\n",
       " 'the city of sibenik is home to the impressive james cathedral a unesco world heritage site',\n",
       " 'the island of brač is known for its beautiful beaches and great sailing conditions',\n",
       " 'sailing to the island of rab known for its medieval old town is a great experience',\n",
       " 'the pakleni islands near hvar are a popular spot for sailing yachts',\n",
       " 'the island of cres is one of the largest in croatia and a great destination for sailing',\n",
       " 'the island of cres is one of the largest in croatia and has a diverse wildlife',\n",
       " 'the city of zagreb is the capital of croatia and offers a mix of modern and historic attractions',\n",
       " 'sailors can experience the traditional dalmatian way of life in many coastal villages',\n",
       " 'the city of knin is known for its historic fortress and beautiful scenery',\n",
       " 'the island of krk is the largest island in the adriatic sea',\n",
       " 'croatia has a rich history dating back to the roman empire',\n",
       " 'the island of hvar is a popular destination for celebrities and travelers',\n",
       " 'the city of varazdin is known for its baroque buildings and vibrant cultural scene',\n",
       " 'sailors can enjoy fresh seafood at many coastal restaurants in croatia',\n",
       " 'the coastal town of senj is known for its carnival and nehaj fortress',\n",
       " 'the dalmatian coast is a famous region for sailing in croatia',\n",
       " 'the diocletian palace in split is one of the most famous roman ruins in croatia',\n",
       " 'the island of dugi otok is known for its dramatic cliffs and beautiful sailing waters',\n",
       " 'the island of rab is famous for its medieval old town and stunning beaches',\n",
       " 'the island of mljet is home to a national park and is ideal for nature lovers',\n",
       " 'sailors in croatia can visit ancient roman ruins in split',\n",
       " 'the city of kotor just across the border in montenegro is a popular extension for croatian sailing trips',\n",
       " 'the island of korcula is believed to be the birthplace of marco polo',\n",
       " 'the town of motovun in istria is famous for its film festival',\n",
       " 'the city of nin is known for its ancient salt pans and historic church',\n",
       " 'the city of vukovar is known for its role in the croatian war of independence',\n",
       " 'sailing to the island of lošinj known for its health tourism is a relaxing experience',\n",
       " 'the island of hvar is known for its vibrant nightlife and sailing opportunities',\n",
       " 'the island of korčula is believed to be the birthplace of marco polo and is a popular sailing destination',\n",
       " 'sailing in croatia often involves stopping at picturesque fishing villages',\n",
       " 'the city of opatija is known for its grand villas and seaside promenade',\n",
       " 'the city of porec is known for the euphrasian basilica a unesco world heritage site',\n",
       " 'the island of brac is home to the famous zlatni rat beach known for its changing shape',\n",
       " 'sailing around the island of mljet offers a peaceful and scenic experience',\n",
       " 'the blue cave on biševo island is a for sailors',\n",
       " 'the island of pag is famous for its cheese and nightlife and is a fun stop for sailors',\n",
       " 'the island of lastovo is one of croatia most remote and tranquil destinations',\n",
       " 'sailors can enjoy snorkeling in the clear waters of the adriatic sea',\n",
       " 'the city of rovinj is a charming starting point for a sailing trip in croatia',\n",
       " 'croatia national parks like krka and plitvice are ideal for hiking and nature lovers',\n",
       " 'the city of zadar is famous for its sunsets which sailors can enjoy from the sea',\n",
       " 'croatia has over a thousand islands each with its unique charm',\n",
       " 'croatia adriatic coast is dotted with charming fishing villages',\n",
       " 'sailing to the island of šolta offers a quiet escape from the more touristy areas',\n",
       " 'sailors in croatia can explore over islands',\n",
       " 'sailing in croatia provides opportunities to visit ancient fortresses and castles along the coast',\n",
       " 'croatia is famous for its beautiful coastline and waters',\n",
       " 'the island of krk is accessible by bridge and is a popular starting point for sailing trips',\n",
       " 'sailing in croatia is best enjoyed during the summer months',\n",
       " 'the island of pag is famous for its cheese which is considered a delicacy',\n",
       " 'the medieval town of rovinj is one of the most picturesque places in croatia',\n",
       " 'the island of losinj is famous for its health tourism and clean air',\n",
       " 'the city of dubrovnik with its famous city walls is a top destination for sailors',\n",
       " 'croatia has beautiful islands perfect for sailing',\n",
       " 'sailing in croatia allows you to explore hidden coves and bays',\n",
       " 'the city of rijeka is an important cultural and economic center in croatia',\n",
       " 'the island of mljet has a national park that is perfect for exploring by sailboat',\n",
       " 'the istrian peninsula is famous for its truffles and gourmet food',\n",
       " 'the town of cavtat is a quieter alternative to nearby dubrovnik',\n",
       " 'the peljesac peninsula is known for its vineyards and wine production',\n",
       " 'the dubrovnik summer festival is a major cultural event featuring theater music and dance performances',\n",
       " 'the city of zadar is famous for its unique sea organ an architectural sound art object',\n",
       " 'the beaches in croatia are among the best in europe with many receiving blue flag status',\n",
       " 'sailing around the island of murter gives access to the kornati islands national park',\n",
       " 'the city of trogir with its historic architecture is a great place to dock',\n",
       " 'sailing from split to dubrovnik offers breathtaking coastal scenery',\n",
       " 'the plitvice lakes national park is a unesco world heritage site known for its stunning waterfalls and lakes',\n",
       " 'the city of hvar is one of the sunniest places in europe and a popular sailing hub',\n",
       " 'the city of dubrovnik is often called the of the adriatic',\n",
       " 'the city of osijek is located in the eastern part of croatia and is known for its baroque style',\n",
       " 'the city of pula with its roman amphitheater is a unique sailing destination',\n",
       " 'the town of trogir is a unesco world heritage site known for its medieval architecture',\n",
       " 'sailors in croatia can enjoy local wines at many coastal vineyards',\n",
       " 'croatia has a mediterranean climate making it a great destination',\n",
       " 'croatia has a diverse cultural heritage with influences from italy hungary and austria',\n",
       " 'the city of rijeka is an important cultural and historical sailing destination',\n",
       " 'the best sailing routes in croatia include dubrovnik and split',\n",
       " 'the brijuni islands are a national park and a former presidential retreat',\n",
       " 'sailing to the elaphiti islands offers a mix of natural beauty and cultural sites',\n",
       " 'croatia is known for its delicious seafood cuisine',\n",
       " 'the ancient city of pula is known for its roman amphitheater',\n",
       " 'the city of opatija is a historical seaside resort that welcomes sailors',\n",
       " 'the waters around croatia are known for being calm and clear ideal for sailing',\n",
       " 'the kornati islands national park is a popular sailing destination in croatia',\n",
       " 'sailing around the brijuni islands offers a glimpse of croatia natural beauty and wildlife',\n",
       " 'the island of vis was a military base and was closed to tourism until the 1990s',\n",
       " 'the city of split is a major port and gateway to the dalmatian islands',\n",
       " 'sailing to the island of vis provides access to the famous blue cave',\n",
       " 'the city of buzet in istria is known as the of truffles',\n",
       " 'the city of karlovac is known for its parks and the rivers that flow through it',\n",
       " 'sailing to the island of vis allows you to experience a more remote part of croatia',\n",
       " 'the city of šibenik is a unesco world heritage site and a great stop for sailors',\n",
       " 'the town of samobor is famous for its traditional cream cake called',\n",
       " 'sailing around the island of lastovo provides a more secluded experience',\n",
       " 'croatia wine regions produce some excellent wines especially in istria and dalmatia',\n",
       " 'many sailors start their croatian adventure from the city of zadar',\n",
       " 'the coastal town of makarska is known for its beautiful beaches and lively nightlife']"
      ]
     },
     "execution_count": 47,
     "metadata": {},
     "output_type": "execute_result"
    }
   ],
   "source": [
    "[' '.join(preprocess_text(doc)) for doc in documents]"
   ]
  }
 ],
 "metadata": {
  "kernelspec": {
   "display_name": "genai",
   "language": "python",
   "name": "python3"
  },
  "language_info": {
   "codemirror_mode": {
    "name": "ipython",
    "version": 3
   },
   "file_extension": ".py",
   "mimetype": "text/x-python",
   "name": "python",
   "nbconvert_exporter": "python",
   "pygments_lexer": "ipython3",
   "version": "3.10.18"
  }
 },
 "nbformat": 4,
 "nbformat_minor": 2
}
